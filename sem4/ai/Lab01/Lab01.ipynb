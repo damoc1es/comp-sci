{
 "cells": [
  {
   "attachments": {},
   "cell_type": "markdown",
   "metadata": {},
   "source": [
    "1. Să se determine ultimul (din punct de vedere alfabetic) cuvânt care poate apărea într-un text care conține mai multe cuvinte separate prin ” ” (spațiu). De ex. ultimul (dpdv alfabetic) cuvânt din ”Ana are mere rosii si galbene” este cuvântul \"si\"."
   ]
  },
  {
   "cell_type": "code",
   "execution_count": 12,
   "metadata": {},
   "outputs": [
    {
     "name": "stdout",
     "output_type": "stream",
     "text": [
      "Tests completed\n"
     ]
    }
   ],
   "source": [
    "# -- 1 --\n",
    "def last_alphabetic_word(text: str) -> str:\n",
    "    \"\"\"Determină ultimul (dpdv alfabetic) cuvânt care poate apărea într-un text care conține mai multe cuvinte separate prin spațiu\n",
    "    time: Θ(n)\n",
    "    space: Θ(1)\n",
    "\n",
    "    Parameters:\n",
    "        text: textul cu cuvintele separate prin spațiu\n",
    "    Returns:\n",
    "        str: ultimul cuvânt (dpdv alfabetic) din text\n",
    "    \"\"\"\n",
    "    return max(text.split()) if text else \"\"\n",
    "\n",
    "def test_last_alphabetic_word():\n",
    "    assert last_alphabetic_word(\"Ana are mere rosii si galbene\") == \"si\"\n",
    "    assert last_alphabetic_word(\"a b c d e f A B C D E F\") == \"f\"\n",
    "    assert last_alphabetic_word(\"\") == \"\"\n",
    "    print(\"Tests completed\")\n",
    "\n",
    "test_last_alphabetic_word()"
   ]
  },
  {
   "attachments": {},
   "cell_type": "markdown",
   "metadata": {},
   "source": [
    "2. Să se determine distanța Euclideană între două locații identificate prin perechi de numere. De ex. distanța între (1,5) și (4,1) este 5.0"
   ]
  },
  {
   "cell_type": "code",
   "execution_count": 13,
   "metadata": {},
   "outputs": [
    {
     "name": "stdout",
     "output_type": "stream",
     "text": [
      "Tests completed\n"
     ]
    }
   ],
   "source": [
    "from math import sqrt\n",
    "\n",
    "# -- 2 --\n",
    "def distance_between_points(p1: tuple[int], p2: tuple[int]) -> float:\n",
    "    \"\"\"Determină distanța euclideană între două locații identificate prin perechi de numere\n",
    "    time: Θ(1)\n",
    "    space: Θ(1)\n",
    "\n",
    "    Parameters:\n",
    "        p1, p2: tupluri cu două numere (coordonatele punctelor)\n",
    "    Returns:\n",
    "        float: distanța euclideană dintre cele două locații\n",
    "    \"\"\"\n",
    "    return sqrt((p1[0]-p2[0])**2 + (p1[1]-p2[1])**2)\n",
    "\n",
    "def test_distance_between_points():\n",
    "    assert distance_between_points((1,5),(4,1)) == 5.0\n",
    "    assert distance_between_points((2,2),(2,2)) == 0.0\n",
    "    print(\"Tests completed\")\n",
    "\n",
    "test_distance_between_points()"
   ]
  },
  {
   "attachments": {},
   "cell_type": "markdown",
   "metadata": {},
   "source": [
    "3. Să se determine produsul scalar a doi vectori rari care conțin numere reale. Un vector este rar atunci când conține multe elemente nule. Vectorii pot avea oricâte dimensiuni. De ex. produsul scalar a 2 vectori unisimensionali [1,0,2,0,3] și [1,2,0,3,1] este 4."
   ]
  },
  {
   "cell_type": "code",
   "execution_count": 14,
   "metadata": {},
   "outputs": [
    {
     "name": "stdout",
     "output_type": "stream",
     "text": [
      "Tests completed\n"
     ]
    }
   ],
   "source": [
    "# -- 3 --\n",
    "def dot_product(v1: list[float], v2: list[float]) -> float:\n",
    "    \"\"\"Determină produsul scalar a doi vectori rari care conțin numere reale\n",
    "    time: Θ(min(n, m))\n",
    "    space: Θ(1)\n",
    "\n",
    "    Parameters:\n",
    "        v1, v2: cei doi vectori (liste) cu numere reale\n",
    "    Returns:\n",
    "        float: produsul scalar a vectorilor\n",
    "    \"\"\"\n",
    "    return sum([x*y for x, y in zip(v1, v2)])\n",
    "\n",
    "def test_dot_product():\n",
    "    assert dot_product([1,0,2,0,3], [1,2,0,3,1]) == 4\n",
    "    assert dot_product([], []) == 0\n",
    "    print(\"Tests completed\")\n",
    "\n",
    "test_dot_product()"
   ]
  },
  {
   "attachments": {},
   "cell_type": "markdown",
   "metadata": {},
   "source": [
    "4. Să se determine cuvintele unui text care apar exact o singură dată în acel text. De ex. cuvintele care apar o singură dată în ”ana are ana are mere rosii ana\" sunt: 'mere' și 'rosii'."
   ]
  },
  {
   "cell_type": "code",
   "execution_count": 15,
   "metadata": {},
   "outputs": [
    {
     "name": "stdout",
     "output_type": "stream",
     "text": [
      "Tests completed\n"
     ]
    }
   ],
   "source": [
    "# -- 4 --\n",
    "def single_appearance(text: str) -> list[str]:\n",
    "    \"\"\"Determină cuvintele unui text care apar o singură dată în acel text\n",
    "    time: Θ(n)\n",
    "    space: O(n)\n",
    "\n",
    "    Parameters:\n",
    "        text: textul în care se caută cuvintele ec apar o singură dată\n",
    "    Returns:\n",
    "        list[str]: listă cu cuvintele care apar o singură dată\n",
    "    \"\"\"\n",
    "    words = {}\n",
    "    for w in text.split():\n",
    "        words[w] = not(w in words)\n",
    "    \n",
    "    return [x for x in words if words[x]]\n",
    "\n",
    "def test_single_appearance():\n",
    "    assert single_appearance(\"ana are ana are mere rosii ana\") == ['mere', 'rosii']\n",
    "    assert single_appearance(\"ana are mere rosii\") == ['ana', 'are', 'mere', 'rosii']\n",
    "    assert single_appearance(\"\") == []\n",
    "    print(\"Tests completed\")\n",
    "\n",
    "test_single_appearance()"
   ]
  },
  {
   "attachments": {},
   "cell_type": "markdown",
   "metadata": {},
   "source": [
    "5. Pentru un șir cu n elemente care conține valori din mulțimea {1, 2, ..., n - 1} astfel încât o singură valoare se repetă de două ori, să se identifice acea valoare care se repetă. De ex. în șirul [1,2,3,4,2] valoarea 2 apare de două ori."
   ]
  },
  {
   "cell_type": "code",
   "execution_count": 16,
   "metadata": {},
   "outputs": [
    {
     "name": "stdout",
     "output_type": "stream",
     "text": [
      "Tests completed\n"
     ]
    }
   ],
   "source": [
    "# -- 5 --\n",
    "def duplicated_value(arr: list[int]) -> int:\n",
    "    \"\"\"Determină valoarea care se repetă într-un șir cu n elemente în care numai una se repetă de două ori\n",
    "    time: Θ(n)\n",
    "    space: Θ(1)\n",
    "\n",
    "    Parameters:\n",
    "        v: șirul de elemente în care numai una se repetă de 2 ori\n",
    "    Returns:\n",
    "        int: numărul care se repetă\n",
    "    \"\"\"\n",
    "\n",
    "    n = len(arr)-1\n",
    "    return sum(arr) - (n*(n+1)//2)\n",
    "\n",
    "def test_duplicated_value():\n",
    "    assert duplicated_value([1,2,3,4,2]) == 2\n",
    "    assert duplicated_value([3,2,5,1,4,1]) == 1\n",
    "    print(\"Tests completed\")\n",
    "\n",
    "test_duplicated_value()"
   ]
  },
  {
   "attachments": {},
   "cell_type": "markdown",
   "metadata": {},
   "source": [
    "6. Pentru un șir cu n numere întregi care conține și duplicate, să se determine elementul majoritar (care apare de mai mult de n / 2 ori). De ex. 2 este elementul majoritar în șirul [2,8,7,2,2,5,2,3,1,2,2]."
   ]
  },
  {
   "cell_type": "code",
   "execution_count": 17,
   "metadata": {},
   "outputs": [
    {
     "name": "stdout",
     "output_type": "stream",
     "text": [
      "Tests completed\n"
     ]
    }
   ],
   "source": [
    "# -- 6 --\n",
    "def majority_element(arr: list[int]) -> int:\n",
    "    \"\"\"Determină elementul majoritar dintr-un șir (apare de mai mult de n/2 ori)\n",
    "    time: Θ(n)\n",
    "    space: O(n)\n",
    "\n",
    "    Parameters:\n",
    "        arr: șir de numere întregi\n",
    "    Returns:\n",
    "        int: elementul majoritar\n",
    "    \"\"\"\n",
    "    fr = {}\n",
    "    for x in arr:\n",
    "        if x in fr:\n",
    "            fr[x] += 1\n",
    "        else: fr[x] = 1\n",
    "\n",
    "    for k, v in fr.items():\n",
    "        if v > len(arr) // 2:\n",
    "            return k;\n",
    "\n",
    "    return None\n",
    "\n",
    "def test_majority_element():\n",
    "    assert majority_element([2,8,7,2,2,5,2,3,1,2,2]) == 2\n",
    "    print(\"Tests completed\")\n",
    "\n",
    "test_majority_element()"
   ]
  },
  {
   "attachments": {},
   "cell_type": "markdown",
   "metadata": {},
   "source": [
    "7. Să se determine al k-lea cel mai mare element al unui șir de numere cu n elemente (k < n). De ex. al 2-lea cel mai mare element din șirul [7,4,6,3,9,1] este 7."
   ]
  },
  {
   "cell_type": "code",
   "execution_count": 18,
   "metadata": {},
   "outputs": [
    {
     "name": "stdout",
     "output_type": "stream",
     "text": [
      "Tests completed\n"
     ]
    }
   ],
   "source": [
    "import heapq\n",
    "\n",
    "# -- 7 --\n",
    "def kth_biggest_element(arr: list[int], k: int) -> int:\n",
    "    \"\"\"Determiná al k-lea cel mai mare element al unui șir de numere cu n elemente\n",
    "    time: O((n-k) log n)\n",
    "    space: O(1)\n",
    "\n",
    "    Parameters:\n",
    "        arr: șirul de numere\n",
    "        k: al câtelea cel mai mare element se caută\n",
    "    Returns:\n",
    "        int: al k-lea cel mai mare element din șir\n",
    "    \"\"\"\n",
    "    arr = [-x for x in arr]\n",
    "    heapq.heapify(arr)\n",
    "\n",
    "    for _ in range(k-1):\n",
    "        heapq.heappop(arr)\n",
    "    return -heapq.heappop(arr)\n",
    "\n",
    "def test_kth_biggest_element():\n",
    "    assert kth_biggest_element([7,4,6,3,9,1], 2) == 7\n",
    "    print(\"Tests completed\")\n",
    "\n",
    "test_kth_biggest_element()"
   ]
  },
  {
   "attachments": {},
   "cell_type": "markdown",
   "metadata": {},
   "source": [
    "8. Să se genereze toate numerele (în reprezentare binară) cuprinse între 1 și n. De ex. dacă n = 4, numerele sunt: 1, 10, 11, 100."
   ]
  },
  {
   "cell_type": "code",
   "execution_count": 19,
   "metadata": {},
   "outputs": [
    {
     "name": "stdout",
     "output_type": "stream",
     "text": [
      "Tests completed\n"
     ]
    }
   ],
   "source": [
    "from queue import Queue\n",
    "\n",
    "# -- 8 --\n",
    "def first_n_binary(n: int) -> list[str]:\n",
    "    \"\"\"Generează toate numerele în reprezentare binară cuprinsă între 1 și n\n",
    "    time: O(n)\n",
    "    space: O(n)\n",
    "\n",
    "    Parameters:\n",
    "        n: câte numere generează\n",
    "    Returns:\n",
    "        list[str]: primele n numere în reprezentare binară\n",
    "    \"\"\"\n",
    "    # sol = [bin(i+1)[2:] for i in range(n)]\n",
    "    sol = []\n",
    "    q = Queue()\n",
    "    q.put(\"1\")\n",
    "    for _ in range(n):\n",
    "        s = q.get()\n",
    "        sol.append(s)\n",
    "        q.put(s+\"0\")\n",
    "        q.put(s+\"1\")\n",
    "    \n",
    "    return sol\n",
    "\n",
    "def test_first_n_binary():\n",
    "    assert first_n_binary(0) == []\n",
    "    assert first_n_binary(4) == [\"1\", \"10\", \"11\", \"100\"]\n",
    "    assert first_n_binary(5) == [\"1\", \"10\", \"11\", \"100\", \"101\"]\n",
    "    print(\"Tests completed\")\n",
    "\n",
    "test_first_n_binary()"
   ]
  },
  {
   "attachments": {},
   "cell_type": "markdown",
   "metadata": {},
   "source": [
    "9. Considerându-se o matrice cu n x m elemente întregi și o listă cu perechi formate din coordonatele a 2 căsuțe din matrice ((p,q) și (r,s)), să se calculeze suma elementelor din sub-matricile identificate de fieare pereche.\n",
    "\n",
    "De ex, pt matricea\n",
    "```\n",
    "[[0, 2, 5, 4, 1],\n",
    " [4, 8, 2, 3, 7],\n",
    " [6, 3, 4, 6, 2],\n",
    " [7, 3, 1, 8, 3],\n",
    " [1, 5, 7, 9, 4]]\n",
    "```\n",
    "și lista de perechi ((1, 1) și (3, 3)), ((2, 2) și (4, 4)), suma elementelor din prima sub-matrice este 38, iar suma elementelor din a 2-a sub-matrice este 44."
   ]
  },
  {
   "cell_type": "code",
   "execution_count": 20,
   "metadata": {},
   "outputs": [
    {
     "name": "stdout",
     "output_type": "stream",
     "text": [
      "Tests completed\n"
     ]
    }
   ],
   "source": [
    "# -- 9 --\n",
    "def submatrix_sum(mat: list[list[int]], pairs: list[tuple]) -> list[int]:\n",
    "    \"\"\"Determină suma elementelor din submatricile identificate de fiecare pereche\n",
    "    time: O(p*n*m)\n",
    "    space: O(p)\n",
    "\n",
    "    Parameters:\n",
    "        mat: matricea\n",
    "        pairs: lista de perechi ce reprezintă coordonatele submatricilor\n",
    "    Returns:\n",
    "        list[int]: sumele elementelor din submatrici\n",
    "    \"\"\"\n",
    "    sol = []\n",
    "    for pair in pairs:\n",
    "        s = 0\n",
    "\n",
    "        for i in range(pair[0][0], pair[1][0]+1):\n",
    "            for j in range(pair[0][1], pair[1][1]+1):\n",
    "                s += mat[i][j]\n",
    "        \n",
    "        sol.append(s)\n",
    "    return sol\n",
    "\n",
    "def test_submatrix_sum():\n",
    "    mat = [[0, 2, 5, 4, 1],\n",
    "           [4, 8, 2, 3, 7],\n",
    "           [6, 3, 4, 6, 2],\n",
    "           [7, 3, 1, 8, 3],\n",
    "           [1, 5, 7, 9, 4]]\n",
    "    \n",
    "    assert submatrix_sum(mat, [((1,1),(3,3)), ((2,2),(4,4))]) == [38, 44]\n",
    "    print(\"Tests completed\")\n",
    "\n",
    "test_submatrix_sum()"
   ]
  },
  {
   "attachments": {},
   "cell_type": "markdown",
   "metadata": {},
   "source": [
    "10. Considerându-se o matrice cu n x m elemente binare (0 sau 1) sortate crescător pe linii, să se identifice indexul liniei care conține cele mai multe elemente de 1.\n",
    "\n",
    "De ex. în matricea\n",
    "```\n",
    "[[0,0,0,1,1],\n",
    " [0,1,1,1,1],\n",
    " [0,0,1,1,1]]\n",
    "```\n",
    "a doua linie conține cele mai multe elemente 1."
   ]
  },
  {
   "cell_type": "code",
   "execution_count": 21,
   "metadata": {},
   "outputs": [
    {
     "name": "stdout",
     "output_type": "stream",
     "text": [
      "Tests completed\n"
     ]
    }
   ],
   "source": [
    "# -- 10 --\n",
    "def row_with_most_ones(mat: list[list[int]]) -> int:\n",
    "    \"\"\"Identifică indexul liniei care conține cele mai multe elemente de 1 într-o matrice cu elemente binare sortată crescător pe linii\n",
    "    time: O(n*m)\n",
    "    space: O(1)\n",
    "\n",
    "    Parameters:\n",
    "        mat: matricea\n",
    "    Returns:\n",
    "        int: indexul liniei cu cele mai multe elemente de 1\n",
    "    \"\"\"\n",
    "    row = 0\n",
    "    min_k = float(\"inf\")\n",
    "\n",
    "    for i in range(len(mat)):\n",
    "        k = float(\"inf\")\n",
    "        for j in range(len(mat[i])):\n",
    "            if mat[i][j]:\n",
    "                k = j\n",
    "                break\n",
    "        if k < min_k:\n",
    "            min_k = k\n",
    "            row = i\n",
    "\n",
    "    return row+1\n",
    "\n",
    "def test_row_with_most_ones():\n",
    "    mat = [[0, 0, 0, 1, 1],\n",
    "           [0, 1, 1, 1, 1],\n",
    "           [0, 0, 1, 1, 1]]\n",
    "    assert row_with_most_ones(mat) == 2\n",
    "    \n",
    "    mat = [[0, 0, 0, 1, 1],\n",
    "           [0, 1, 1, 1, 1],\n",
    "           [0, 0, 1, 1, 1],\n",
    "           [1, 1, 1, 1, 1]]\n",
    "    assert row_with_most_ones(mat) == 4\n",
    "    print(\"Tests completed\")\n",
    "\n",
    "test_row_with_most_ones()"
   ]
  },
  {
   "attachments": {},
   "cell_type": "markdown",
   "metadata": {},
   "source": [
    "11. Considerându-se o matrice cu n x m elemente binare (0 sau 1), să se înlocuiască cu 1 toate aparițiile elementelor egale cu 0 care sunt complet înconjurate de 1.\n",
    "\n",
    "De ex. matricea\n",
    "```\n",
    "[[1,1,1,1,0,0,1,1,0,1],\n",
    " [1,0,0,1,1,0,1,1,1,1],\n",
    " [1,0,0,1,1,1,1,1,1,1],\n",
    " [1,1,1,1,0,0,1,1,0,1],\n",
    " [1,0,0,1,1,0,1,1,0,0],\n",
    " [1,1,0,1,1,0,0,1,0,1],\n",
    " [1,1,1,0,1,0,1,0,0,1],\n",
    " [1,1,1,0,1,1,1,1,1,1]]\n",
    "```\n",
    "*devine*\n",
    "```\n",
    "[[1,1,1,1,0,0,1,1,0,1],\n",
    " [1,1,1,1,1,0,1,1,1,1],\n",
    " [1,1,1,1,1,1,1,1,1,1],\n",
    " [1,1,1,1,1,1,1,1,0,1],\n",
    " [1,1,1,1,1,1,1,1,0,0],\n",
    " [1,1,1,1,1,1,1,1,0,1],\n",
    " [1,1,1,0,1,1,1,0,0,1],\n",
    " [1,1,1,0,1,1,1,1,1,1]]\n",
    "```"
   ]
  },
  {
   "cell_type": "code",
   "execution_count": 22,
   "metadata": {},
   "outputs": [
    {
     "name": "stdout",
     "output_type": "stream",
     "text": [
      "Tests completed\n"
     ]
    }
   ],
   "source": [
    "# -- 11 --\n",
    "def fill_with_ones(mat: list[list[int]]) -> list[list[int]]:\n",
    "    \"\"\"Înlocuiește cu 1 din matrice elementele egale cu 0 care sunt complet înconjurate de 1\n",
    "    time: O(n*m)\n",
    "    space: O(n*m)\n",
    "\n",
    "    Parameters:\n",
    "        mat: matricea\n",
    "    Returns:\n",
    "        list[list[int]]: matricea cu elementele egale cu 0 înconjurate de 1, cu 1\n",
    "    \"\"\"\n",
    "\n",
    "    def is_ok(M: list[list[int]], x: int, y: int) -> bool:\n",
    "        if x < 0 or x > len(M)-1:\n",
    "            return False\n",
    "        if y < 0 or y > len(M[x])-1:\n",
    "            return False\n",
    "        return True\n",
    "    \n",
    "    di = [0, 0, -1, 1]\n",
    "    dj = [1, -1, 0, 0]\n",
    "\n",
    "    def fill(M: list[list[int]], M1: list[list[int]], x: int, y: int):\n",
    "        M1[x][y] = 1\n",
    "        \n",
    "        for d in range(4):\n",
    "            i, j = x+di[d], y+dj[d]\n",
    "\n",
    "            if not is_ok(M, i, j):\n",
    "                continue\n",
    "\n",
    "            if M[i][j] == 0 and M1[i][j] == 0:\n",
    "                fill(M, M1, i, j)\n",
    "\n",
    "    mat1 = [[0]*len(mat[0]) for _ in range(len(mat))]\n",
    "    \n",
    "    for i in range(len(mat[0])):\n",
    "        if mat[0][i] == 0:\n",
    "            fill(mat, mat1, 0, i)\n",
    "        if mat[len(mat)-1][i] == 0:\n",
    "            fill(mat, mat1, len(mat)-1, i)\n",
    "    \n",
    "    for i in range(len(mat)):\n",
    "        if mat[i][0] == 0:\n",
    "            fill(mat, mat1, i, 0)\n",
    "        if mat[i][len(mat[0])-1] == 0:\n",
    "            fill(mat, mat1, i, len(mat[0])-1)\n",
    "\n",
    "    for i in range(len(mat)):\n",
    "        for j in range(len(mat[i])):\n",
    "            if mat1[i][j] == 0:\n",
    "                mat[i][j] = 1\n",
    "    \n",
    "    return mat\n",
    "\n",
    "def test_fill_with_ones():\n",
    "    mat = [[1,1,1,1,0,0,1,1,0,1],\n",
    "           [1,0,0,1,1,0,1,1,1,1],\n",
    "           [1,0,0,1,1,1,1,1,1,1],\n",
    "           [1,1,1,1,0,0,1,1,0,1],\n",
    "           [1,0,0,1,1,0,1,1,0,0],\n",
    "           [1,1,0,1,1,0,0,1,0,1],\n",
    "           [1,1,1,0,1,0,1,0,0,1],\n",
    "           [1,1,1,0,1,1,1,1,1,1]]\n",
    "    \n",
    "    assert fill_with_ones(mat) == [[1,1,1,1,0,0,1,1,0,1],\n",
    "                                   [1,1,1,1,1,0,1,1,1,1],\n",
    "                                   [1,1,1,1,1,1,1,1,1,1],\n",
    "                                   [1,1,1,1,1,1,1,1,0,1],\n",
    "                                   [1,1,1,1,1,1,1,1,0,0],\n",
    "                                   [1,1,1,1,1,1,1,1,0,1],\n",
    "                                   [1,1,1,0,1,1,1,0,0,1],\n",
    "                                   [1,1,1,0,1,1,1,1,1,1]]\n",
    "    \n",
    "    mat = [[0,0,0],\n",
    "           [0,0,0]]\n",
    "    assert fill_with_ones(mat) == mat\n",
    "\n",
    "    mat = [[1,1,1],\n",
    "           [1,0,1],\n",
    "           [1,1,1]]\n",
    "    assert fill_with_ones(mat) == [[1,1,1],\n",
    "                                   [1,1,1],\n",
    "                                   [1,1,1]]\n",
    "    print(\"Tests completed\")\n",
    "\n",
    "test_fill_with_ones()"
   ]
  }
 ],
 "metadata": {
  "kernelspec": {
   "display_name": "base",
   "language": "python",
   "name": "python3"
  },
  "language_info": {
   "codemirror_mode": {
    "name": "ipython",
    "version": 3
   },
   "file_extension": ".py",
   "mimetype": "text/x-python",
   "name": "python",
   "nbconvert_exporter": "python",
   "pygments_lexer": "ipython3",
   "version": "3.10.4"
  },
  "orig_nbformat": 4,
  "vscode": {
   "interpreter": {
    "hash": "45c91a70b04ec8d23d4bf485d6e4c69b7353ab8cf3a98e9a97422378c5c01fb8"
   }
  }
 },
 "nbformat": 4,
 "nbformat_minor": 2
}
